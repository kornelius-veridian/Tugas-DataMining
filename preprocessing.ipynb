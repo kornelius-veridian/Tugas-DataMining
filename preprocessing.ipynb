{
  "nbformat": 4,
  "nbformat_minor": 0,
  "metadata": {
    "colab": {
      "name": "preprocessing.ipynb",
      "provenance": [],
      "authorship_tag": "ABX9TyO4MuViF+gXG4MjHgtA7BbF",
      "include_colab_link": true
    },
    "kernelspec": {
      "name": "python3",
      "display_name": "Python 3"
    },
    "language_info": {
      "name": "python"
    }
  },
  "cells": [
    {
      "cell_type": "markdown",
      "metadata": {
        "id": "view-in-github",
        "colab_type": "text"
      },
      "source": [
        "<a href=\"https://colab.research.google.com/github/kornelius-veridian/Tugas-DataMining/blob/main/preprocessing.ipynb\" target=\"_parent\"><img src=\"https://colab.research.google.com/assets/colab-badge.svg\" alt=\"Open In Colab\"/></a>"
      ]
    },
    {
      "cell_type": "code",
      "execution_count": 1,
      "metadata": {
        "id": "VgkbENxHRBAl"
      },
      "outputs": [],
      "source": [
        "import numpy as np\n",
        "import matplotlib.pyplot as plt\n",
        "import pandas as pd"
      ]
    },
    {
      "cell_type": "markdown",
      "source": [
        ""
      ],
      "metadata": {
        "id": "2xyJNBruRSJ0"
      }
    },
    {
      "cell_type": "code",
      "source": [
        "dataset = pd.read_csv('Dataset.csv')\n",
        "x = dataset.iloc[:, :-1].values\n",
        "y = dataset.iloc[:, -1].values"
      ],
      "metadata": {
        "id": "g2qD7pSeRSnc"
      },
      "execution_count": 2,
      "outputs": []
    },
    {
      "cell_type": "code",
      "source": [
        "print(x)"
      ],
      "metadata": {
        "colab": {
          "base_uri": "https://localhost:8080/"
        },
        "id": "BMQBOP7oRXMW",
        "outputId": "55b533e8-a57e-4003-dcc2-caff236937dc"
      },
      "execution_count": 3,
      "outputs": [
        {
          "output_type": "stream",
          "name": "stdout",
          "text": [
            "[['demak ' 45.0 72000.0]\n",
            " ['semarang ' 28.0 48000.0]\n",
            " ['kendal' 30.0 55000.0]\n",
            " ['demak ' 33.0 60000.0]\n",
            " ['semarang ' 47.0 nan]\n",
            " ['kendal' 31.0 58000.0]\n",
            " ['demak ' nan 52000.0]\n",
            " ['semarang ' 48.0 79000.0]\n",
            " ['kendal' 50.0 82000.0]\n",
            " ['demak ' 37.0 67000.0]]\n"
          ]
        }
      ]
    },
    {
      "cell_type": "code",
      "source": [
        "print(y)"
      ],
      "metadata": {
        "colab": {
          "base_uri": "https://localhost:8080/"
        },
        "id": "llmMfRK0Rb0s",
        "outputId": "46e2b87b-5e70-4c0f-c734-13a791189a10"
      },
      "execution_count": 4,
      "outputs": [
        {
          "output_type": "stream",
          "name": "stdout",
          "text": [
            "['yes' 'no' 'yes' 'yes' 'no' 'no' 'no' 'yes' 'no' 'yes']\n"
          ]
        }
      ]
    },
    {
      "cell_type": "code",
      "source": [
        "from sklearn.compose import ColumnTransformer\n",
        "from sklearn.preprocessing import OneHotEncoder\n",
        "ct = ColumnTransformer(transformers=[('encoder',OneHotEncoder(), [0])], remainder='passthrough')\n",
        "x = np.array(ct.fit_transform(x))"
      ],
      "metadata": {
        "id": "mgESKrppRgRt"
      },
      "execution_count": 5,
      "outputs": []
    },
    {
      "cell_type": "code",
      "source": [
        "print(x)"
      ],
      "metadata": {
        "colab": {
          "base_uri": "https://localhost:8080/"
        },
        "id": "7kIc7x1qRmrs",
        "outputId": "33e6bc61-6d25-47f6-bb60-4c5441285462"
      },
      "execution_count": 6,
      "outputs": [
        {
          "output_type": "stream",
          "name": "stdout",
          "text": [
            "[[1.0 0.0 0.0 45.0 72000.0]\n",
            " [0.0 0.0 1.0 28.0 48000.0]\n",
            " [0.0 1.0 0.0 30.0 55000.0]\n",
            " [1.0 0.0 0.0 33.0 60000.0]\n",
            " [0.0 0.0 1.0 47.0 nan]\n",
            " [0.0 1.0 0.0 31.0 58000.0]\n",
            " [1.0 0.0 0.0 nan 52000.0]\n",
            " [0.0 0.0 1.0 48.0 79000.0]\n",
            " [0.0 1.0 0.0 50.0 82000.0]\n",
            " [1.0 0.0 0.0 37.0 67000.0]]\n"
          ]
        }
      ]
    },
    {
      "cell_type": "code",
      "source": [
        "from sklearn.preprocessing import LabelEncoder\n",
        "le = LabelEncoder()\n",
        "y = le.fit_transform(y)"
      ],
      "metadata": {
        "id": "MqN_oQgXRpjW"
      },
      "execution_count": 7,
      "outputs": []
    },
    {
      "cell_type": "code",
      "source": [
        "print(y)"
      ],
      "metadata": {
        "colab": {
          "base_uri": "https://localhost:8080/"
        },
        "id": "OtUrgo6ORtMw",
        "outputId": "9ff050fd-520f-40a3-a387-ea2227745708"
      },
      "execution_count": 8,
      "outputs": [
        {
          "output_type": "stream",
          "name": "stdout",
          "text": [
            "[1 0 1 1 0 0 0 1 0 1]\n"
          ]
        }
      ]
    },
    {
      "cell_type": "code",
      "source": [
        "from sklearn.model_selection import train_test_split\n",
        "x_train, x_test, y_train, y_test = train_test_split(x,y, test_size = 0.2, random_state =1)"
      ],
      "metadata": {
        "id": "xa9O-xH4Rw1X"
      },
      "execution_count": 9,
      "outputs": []
    },
    {
      "cell_type": "code",
      "source": [
        "print(x_train)"
      ],
      "metadata": {
        "colab": {
          "base_uri": "https://localhost:8080/"
        },
        "id": "I1RCIT08R3bN",
        "outputId": "2fd6c2b6-e273-4b35-fe99-4356e148904e"
      },
      "execution_count": 10,
      "outputs": [
        {
          "output_type": "stream",
          "name": "stdout",
          "text": [
            "[[1.0 0.0 0.0 nan 52000.0]\n",
            " [0.0 0.0 1.0 47.0 nan]\n",
            " [1.0 0.0 0.0 45.0 72000.0]\n",
            " [1.0 0.0 0.0 33.0 60000.0]\n",
            " [0.0 0.0 1.0 28.0 48000.0]\n",
            " [0.0 0.0 1.0 48.0 79000.0]\n",
            " [0.0 1.0 0.0 50.0 82000.0]\n",
            " [0.0 1.0 0.0 31.0 58000.0]]\n"
          ]
        }
      ]
    },
    {
      "cell_type": "code",
      "source": [
        "print(x_test)"
      ],
      "metadata": {
        "colab": {
          "base_uri": "https://localhost:8080/"
        },
        "id": "ZutiKcbzR7RX",
        "outputId": "69afd7e5-e59e-4d50-93cb-aa4374b9ed74"
      },
      "execution_count": 11,
      "outputs": [
        {
          "output_type": "stream",
          "name": "stdout",
          "text": [
            "[[0.0 1.0 0.0 30.0 55000.0]\n",
            " [1.0 0.0 0.0 37.0 67000.0]]\n"
          ]
        }
      ]
    },
    {
      "cell_type": "code",
      "source": [
        "print(y_train)"
      ],
      "metadata": {
        "colab": {
          "base_uri": "https://localhost:8080/"
        },
        "id": "voVxpcpER_sj",
        "outputId": "dff832f1-f4f2-4226-fc26-641b14c576d0"
      },
      "execution_count": 12,
      "outputs": [
        {
          "output_type": "stream",
          "name": "stdout",
          "text": [
            "[0 0 1 1 0 1 0 0]\n"
          ]
        }
      ]
    },
    {
      "cell_type": "code",
      "source": [
        "print(y_test)"
      ],
      "metadata": {
        "colab": {
          "base_uri": "https://localhost:8080/"
        },
        "id": "-I1Zp7y6SDC2",
        "outputId": "35264334-c552-456b-93ba-5f1593d27960"
      },
      "execution_count": 13,
      "outputs": [
        {
          "output_type": "stream",
          "name": "stdout",
          "text": [
            "[1 1]\n"
          ]
        }
      ]
    },
    {
      "cell_type": "code",
      "source": [
        "from sklearn.preprocessing import StandardScaler\n",
        "sc = StandardScaler()\n",
        "x_train[:, 3:] = sc.fit_transform(x_train [:, 3:])\n",
        "x_test[:, 3:] = sc.transform(x_test[:, 3:])"
      ],
      "metadata": {
        "id": "TQmwsVgSSItV"
      },
      "execution_count": 14,
      "outputs": []
    },
    {
      "cell_type": "code",
      "source": [
        "print(x_train)"
      ],
      "metadata": {
        "colab": {
          "base_uri": "https://localhost:8080/"
        },
        "id": "GoohO8C8SKZ1",
        "outputId": "a3911ba4-5ba9-4f9e-e956-aeeab5379fae"
      },
      "execution_count": 15,
      "outputs": [
        {
          "output_type": "stream",
          "name": "stdout",
          "text": [
            "[[1.0 0.0 0.0 nan -1.0082256376137535]\n",
            " [0.0 0.0 1.0 0.785518367796229 nan]\n",
            " [1.0 0.0 0.0 0.5515341731335225 0.6142064229141259]\n",
            " [1.0 0.0 0.0 -0.8523709948427163 -0.3592528134026018]\n",
            " [0.0 0.0 1.0 -1.4373314814994824 -1.3327120497193294]\n",
            " [0.0 0.0 1.0 0.9025104651275822 1.1820576440988837]\n",
            " [0.0 1.0 0.0 1.1364946597902887 1.4254224531780655]\n",
            " [0.0 1.0 0.0 -1.0863551895054229 -0.5214960194553897]]\n"
          ]
        }
      ]
    }
  ]
}